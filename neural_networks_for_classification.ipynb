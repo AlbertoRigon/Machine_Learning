{
 "cells": [
  {
   "cell_type": "markdown",
   "metadata": {},
   "source": [
    "# Neural Networks for Classification\n",
    "\n",
    "In this notebook we are going to explore the use of Neural Networks for image classification. We are going to use a dataset of small images of clothes and accessories, the Fashion MNIST. You can find more information regarding the dataset here: https://pravarmahajan.github.io/fashion/\n",
    "\n",
    "Each instance in the dataset consist of an image, in a format similar to the digit images you have seen in the previous homework, and a label. The labels correspond to the type of clothing, as follows:\n",
    "\n",
    "| Label | Description |\n",
    "| --- | --- |\n",
    "| 0 | T-shirt/top |\n",
    "| 1 | Trouser |\n",
    "| 2 | Pullover |\n",
    "| 3 | Dress |\n",
    "| 4 | Coat |\n",
    "| 5 | Sandal |\n",
    "| 6 | Shirt |\n",
    "| 7 | Sneaker |\n",
    "| 8 | Bag |\n",
    "| 9 | Ankle boot |"
   ]
  },
  {
   "cell_type": "markdown",
   "metadata": {},
   "source": [
    "Let's first load the required packages."
   ]
  },
  {
   "cell_type": "code",
   "execution_count": 1,
   "metadata": {},
   "outputs": [],
   "source": [
    "#load the required packages\n",
    "\n",
    "%matplotlib inline  \n",
    "\n",
    "import numpy as np\n",
    "import scipy as sp\n",
    "import matplotlib.pyplot as plt\n",
    "\n",
    "import sklearn\n",
    "from sklearn.neural_network import MLPClassifier\n",
    "from sklearn.model_selection import GridSearchCV"
   ]
  },
  {
   "cell_type": "markdown",
   "metadata": {},
   "source": [
    "The following is a function to load the data, that we are going to use later in the notebook."
   ]
  },
  {
   "cell_type": "code",
   "execution_count": 2,
   "metadata": {},
   "outputs": [],
   "source": [
    "# helper function to load Fashion MNIST dataset from disk\n",
    "def load_fashion_mnist(path, kind='train'):\n",
    "    import os\n",
    "    import gzip\n",
    "    import numpy as np\n",
    "    labels_path = os.path.join(path, '%s-labels-idx1-ubyte.gz' % kind)\n",
    "    images_path = os.path.join(path, '%s-images-idx3-ubyte.gz' % kind)\n",
    "    with gzip.open(labels_path, 'rb') as lbpath:\n",
    "        labels = np.frombuffer(lbpath.read(), dtype=np.uint8,offset=8)\n",
    "    with gzip.open(images_path, 'rb') as imgpath:\n",
    "        images = np.frombuffer(imgpath.read(), dtype=np.uint8,offset=16).reshape(len(labels), 784)\n",
    "    return images, labels"
   ]
  },
  {
   "cell_type": "markdown",
   "metadata": {},
   "source": [
    "## TO DO 0\n",
    "Place your ID (\"numero di matricola\") that will be used as seed for random generator. Change the ID number in case you observe unexpected behaviours and want to test if this is due to randomization (e.g., train/test split). If you change the ID number explain why you have change it."
   ]
  },
  {
   "cell_type": "code",
   "execution_count": 3,
   "metadata": {},
   "outputs": [],
   "source": [
    "ID = 2019136 # COMPLETE\n",
    "np.random.seed(ID)"
   ]
  },
  {
   "cell_type": "markdown",
   "metadata": {},
   "source": [
    "Now we load the dataset using the function above."
   ]
  },
  {
   "cell_type": "code",
   "execution_count": 4,
   "metadata": {},
   "outputs": [],
   "source": [
    "#load the fashion MNIST dataset and normalize the features so that each value is in [0,1]\n",
    "X, y = load_fashion_mnist(\"data\")\n",
    "# rescale the data\n",
    "X = X / 255.0"
   ]
  },
  {
   "cell_type": "markdown",
   "metadata": {},
   "source": [
    "Now we split the data into training and test. Make sure that each label is present at least 10 times\n",
    "in the training set."
   ]
  },
  {
   "cell_type": "code",
   "execution_count": 5,
   "metadata": {},
   "outputs": [
    {
     "name": "stdout",
     "output_type": "stream",
     "text": [
      "Labels in training dataset:  [0 1 2 3 4 5 6 7 8 9]\n",
      "Frequencies in training dataset:  [61 43 58 44 52 43 50 50 58 41]\n"
     ]
    }
   ],
   "source": [
    "#random permute the data and split into training and test taking the first 500\n",
    "#data samples as training and the rest as test\n",
    "permutation = np.random.permutation(X.shape[0])\n",
    "\n",
    "X = X[permutation]\n",
    "y = y[permutation]\n",
    "\n",
    "m_training = 500\n",
    "\n",
    "X_train, X_test = X[:m_training], X[m_training:]\n",
    "y_train, y_test = y[:m_training], y[m_training:]\n",
    "\n",
    "labels, freqs = np.unique(y_train, return_counts=True)\n",
    "print(\"Labels in training dataset: \", labels)\n",
    "print(\"Frequencies in training dataset: \", freqs)"
   ]
  },
  {
   "cell_type": "markdown",
   "metadata": {},
   "source": [
    "The following function plots an image and the corresponding label, to be used to inspect the data when needed."
   ]
  },
  {
   "cell_type": "code",
   "execution_count": 6,
   "metadata": {},
   "outputs": [],
   "source": [
    "#function for plotting a image and printing the corresponding label\n",
    "def plot_input(X_matrix, labels, index):\n",
    "    print(\"INPUT:\")\n",
    "    plt.imshow(\n",
    "        X_matrix[index].reshape(28,28),\n",
    "        cmap          = plt.cm.gray_r,\n",
    "        interpolation = \"nearest\"\n",
    "    )\n",
    "    plt.show()\n",
    "    print(\"LABEL: %i\"%labels[index])\n",
    "    return"
   ]
  },
  {
   "cell_type": "markdown",
   "metadata": {},
   "source": [
    "Now let's test the function above and check few images."
   ]
  },
  {
   "cell_type": "code",
   "execution_count": 7,
   "metadata": {},
   "outputs": [
    {
     "name": "stdout",
     "output_type": "stream",
     "text": [
      "INPUT:\n"
     ]
    },
    {
     "data": {
      "image/png": "[encoded data removed]",
      "text/plain": [
       "<Figure size 432x288 with 1 Axes>"
      ]
     },
     "metadata": {
      "needs_background": "light"
     },
     "output_type": "display_data"
    },
    {
     "name": "stdout",
     "output_type": "stream",
     "text": [
      "LABEL: 3\n",
      "INPUT:\n"
     ]
    },
    {
     "data": {
      "image/png": "[encoded data removed]",
      "text/plain": [
       "<Figure size 432x288 with 1 Axes>"
      ]
     },
     "metadata": {
      "needs_background": "light"
     },
     "output_type": "display_data"
    },
    {
     "name": "stdout",
     "output_type": "stream",
     "text": [
      "LABEL: 1\n",
      "INPUT:\n"
     ]
    },
    {
     "data": {
      "image/png": "[encoded data removed]",
      "text/plain": [
       "<Figure size 432x288 with 1 Axes>"
      ]
     },
     "metadata": {
      "needs_background": "light"
     },
     "output_type": "display_data"
    },
    {
     "name": "stdout",
     "output_type": "stream",
     "text": [
      "LABEL: 0\n"
     ]
    }
   ],
   "source": [
    "#let's try the plotting function\n",
    "plot_input(X_train,y_train,10)\n",
    "plot_input(X_test,y_test,50)\n",
    "plot_input(X_test,y_test,300)"
   ]
  },
  {
   "cell_type": "markdown",
   "metadata": {},
   "source": [
    "## TO DO 1\n",
    "\n",
    "Now use a (feed-forward) Neural Network for prediction. Use the multi-layer perceptron (MLP) classifier MLPClassifier(...) in scikit-learn, with the following parameters: max_iter=300, alpha=1e-4, solver='sgd', tol=1e-4, learning_rate_init=.1, random_state=ID (this last parameter ensures the run is the same even if you run it more than once). The alpha parameter is the regularization parameter for L2 regularization that is used by the MLP in sklearn.\n",
    "\n",
    "Then, using the default activation function, pick four or five architectures to consider, with different numbers of hidden layers and different sizes. It is not necessary to create huge neural networks, you can limit to 3 layers and, for each layer, its maximum size can be of 100. You can evaluate the architectures you chose using the GridSearchCV with a 5-fold cross-validation, and use the results to pick the best architecture. The code below provides some architectures you can use, but you can choose other ones if you prefer.\n"
   ]
  },
  {
   "cell_type": "code",
   "execution_count": 8,
   "metadata": {
    "scrolled": true
   },
   "outputs": [
    {
     "name": "stdout",
     "output_type": "stream",
     "text": [
      "RESULTS FOR NN\n",
      "\n",
      "Best parameters set found:  {'hidden_layer_sizes': (100,)}\n",
      "Score with best parameters:  0.7779999999999999\n",
      "\n",
      "All scores on the grid:     mean_score_time  std_score_time  split0_test_score  split1_test_score  \\\n",
      "0         0.002601        0.000801               0.72               0.74   \n",
      "1         0.003202        0.001940               0.76               0.77   \n",
      "2         0.003204        0.001722               0.19               0.39   \n",
      "3         0.005003        0.001674               0.76               0.75   \n",
      "4         0.003601        0.001357               0.80               0.77   \n",
      "\n",
      "   split2_test_score  split3_test_score  split4_test_score  mean_test_score  \\\n",
      "0               0.71               0.81               0.64            0.724   \n",
      "1               0.78               0.81               0.70            0.764   \n",
      "2               0.12               0.35               0.46            0.302   \n",
      "3               0.76               0.82               0.71            0.760   \n",
      "4               0.78               0.84               0.70            0.778   \n",
      "\n",
      "   std_test_score  rank_test_score  \n",
      "0        0.054626                4  \n",
      "1        0.036111                2  \n",
      "2        0.127028                5  \n",
      "3        0.035214                3  \n",
      "4        0.045782                1  \n"
     ]
    }
   ],
   "source": [
    "#MLPclassifier requires in input the parameter hidden_layer_sizes, that is a tuple specifying the number of \n",
    "#neurons in the hidden layers; for example: (10,) means that there is only 1 hidden layer with 10 neurons; \n",
    "#(10,50) means that there are 2 hidden layers, the first with 10 neurons, the second with 50 neurons\n",
    "\n",
    "#import panda's Dataframe for a better visualization of the results\n",
    "import pandas as pd\n",
    "\n",
    "#these are examples of possible architectures you can test, but feel free to use different architectures! \n",
    "hl_parameters = {'hidden_layer_sizes': [(10,), (50,), (10,10,), (50,50,), (100,),]}\n",
    "\n",
    "mlp_cv = MLPClassifier(max_iter=1000, alpha=1e-4, solver='sgd', tol=1e-4, learning_rate_init=.1,random_state=ID)\n",
    "clf = GridSearchCV(mlp_cv, hl_parameters).fit(X_train, y_train)\n",
    "\n",
    "print ('RESULTS FOR NN\\n')\n",
    "\n",
    "print(\"Best parameters set found: \", clf.best_params_)\n",
    "print(\"Score with best parameters: \", clf.best_score_)\n",
    "print(\"\\nAll scores on the grid: \", pd.DataFrame.from_dict({name_score : score for (name_score, score) in clf.cv_results_.items() if \"score\" in name_score}))"
   ]
  },
  {
   "cell_type": "markdown",
   "metadata": {},
   "source": [
    "## TO DO 2\n",
    "\n",
    "What do you observe for different architectures and their scores? How do the number of layers and their sizes affect the performances?"
   ]
  },
  {
   "cell_type": "markdown",
   "metadata": {
    "collapsed": true
   },
   "source": [
    "The accuracies obtained by the different architectures show that in this specific case it is more convenient to add more neurons to a single hidden layer rather than adding more layers to the network. In particular, a MLP with one hidden layer made of 100 neurons outperformed all the other multi-layer architectures, and the second best architecture according to GridSearchCv is another one-layer architecture, (50,). "
   ]
  },
  {
   "cell_type": "markdown",
   "metadata": {},
   "source": [
    "## TO DO 3\n",
    "\n",
    "Now get training and test error (according to the initial split) for a NN with best parameters chosen from the cross-validation above (and learning the NN weights from the entire training set). Use verbose=True\n",
    "in input so to see how loss changes in iterations. (Note that the loss used by the MLPclassifier may be different from the 0-1 loss, also called *accuracy*.)"
   ]
  },
  {
   "cell_type": "code",
   "execution_count": 9,
   "metadata": {},
   "outputs": [
    {
     "name": "stdout",
     "output_type": "stream",
     "text": [
      "Iteration 1, loss = 2.12459387\n",
      "Iteration 2, loss = 1.63687696\n",
      "Iteration 3, loss = 1.06151193\n",
      "Iteration 4, loss = 0.84408760\n",
      "Iteration 5, loss = 0.70260586\n",
      "Iteration 6, loss = 0.59324016\n",
      "Iteration 7, loss = 0.80820299\n",
      "Iteration 8, loss = 0.65140372\n",
      "Iteration 9, loss = 0.48667616\n",
      "Iteration 10, loss = 0.46094028\n",
      "Iteration 11, loss = 0.42654322\n",
      "Iteration 12, loss = 0.39964633\n",
      "Iteration 13, loss = 0.48941503\n",
      "Iteration 14, loss = 0.36639907\n",
      "Iteration 15, loss = 0.32496897\n",
      "Iteration 16, loss = 0.31518145\n",
      "Iteration 17, loss = 0.28862065\n",
      "Iteration 18, loss = 0.26262648\n",
      "Iteration 19, loss = 0.27871456\n",
      "Iteration 20, loss = 0.20953811\n",
      "Iteration 21, loss = 0.21577194\n",
      "Iteration 22, loss = 0.18570888\n",
      "Iteration 23, loss = 0.17608647\n",
      "Iteration 24, loss = 0.15336007\n",
      "Iteration 25, loss = 0.18127273\n",
      "Iteration 26, loss = 0.23086335\n",
      "Iteration 27, loss = 0.43487164\n",
      "Iteration 28, loss = 0.23354219\n",
      "Iteration 29, loss = 0.16992170\n",
      "Iteration 30, loss = 0.14732588\n",
      "Iteration 31, loss = 0.13593472\n",
      "Iteration 32, loss = 0.12084527\n",
      "Iteration 33, loss = 0.13169293\n",
      "Iteration 34, loss = 0.11759391\n",
      "Iteration 35, loss = 0.13371647\n",
      "Iteration 36, loss = 0.11429440\n",
      "Iteration 37, loss = 0.08401804\n",
      "Iteration 38, loss = 0.08817440\n",
      "Iteration 39, loss = 0.07482296\n",
      "Iteration 40, loss = 0.10661532\n",
      "Iteration 41, loss = 0.08282220\n",
      "Iteration 42, loss = 0.16314281\n",
      "Iteration 43, loss = 0.09667302\n",
      "Iteration 44, loss = 0.06377329\n",
      "Iteration 45, loss = 0.05051328\n",
      "Iteration 46, loss = 0.04603266\n",
      "Iteration 47, loss = 0.04147356\n",
      "Iteration 48, loss = 0.04443518\n",
      "Iteration 49, loss = 0.03752152\n",
      "Iteration 50, loss = 0.03536487\n",
      "Iteration 51, loss = 0.05595827\n",
      "Iteration 52, loss = 0.03513465\n",
      "Iteration 53, loss = 0.02993426\n",
      "Iteration 54, loss = 0.02513868\n",
      "Iteration 55, loss = 0.02580585\n",
      "Iteration 56, loss = 0.02312880\n",
      "Iteration 57, loss = 0.02164016\n",
      "Iteration 58, loss = 0.02060164\n",
      "Iteration 59, loss = 0.02128756\n",
      "Iteration 60, loss = 0.02146138\n",
      "Iteration 61, loss = 0.03341446\n",
      "Iteration 62, loss = 0.02046798\n",
      "Iteration 63, loss = 0.01671011\n",
      "Iteration 64, loss = 0.01676766\n",
      "Iteration 65, loss = 0.01540603\n",
      "Iteration 66, loss = 0.01509895\n",
      "Iteration 67, loss = 0.01406520\n",
      "Iteration 68, loss = 0.01375795\n",
      "Iteration 69, loss = 0.01407503\n",
      "Iteration 70, loss = 0.01282092\n",
      "Iteration 71, loss = 0.01259990\n",
      "Iteration 72, loss = 0.01181320\n",
      "Iteration 73, loss = 0.01164224\n",
      "Iteration 74, loss = 0.01176356\n",
      "Iteration 75, loss = 0.01111534\n",
      "Iteration 76, loss = 0.01063830\n",
      "Iteration 77, loss = 0.01035468\n",
      "Iteration 78, loss = 0.01031629\n",
      "Iteration 79, loss = 0.00972100\n",
      "Iteration 80, loss = 0.00950630\n",
      "Iteration 81, loss = 0.00936881\n",
      "Iteration 82, loss = 0.00912038\n",
      "Iteration 83, loss = 0.00883097\n",
      "Iteration 84, loss = 0.00871386\n",
      "Iteration 85, loss = 0.00876687\n",
      "Iteration 86, loss = 0.00829340\n",
      "Iteration 87, loss = 0.00805169\n",
      "Iteration 88, loss = 0.00785808\n",
      "Iteration 89, loss = 0.00785515\n",
      "Iteration 90, loss = 0.00754034\n",
      "Iteration 91, loss = 0.00749021\n",
      "Iteration 92, loss = 0.00741010\n",
      "Iteration 93, loss = 0.00722255\n",
      "Iteration 94, loss = 0.00703040\n",
      "Iteration 95, loss = 0.00691535\n",
      "Iteration 96, loss = 0.00683086\n",
      "Iteration 97, loss = 0.00667247\n",
      "Iteration 98, loss = 0.00655975\n",
      "Iteration 99, loss = 0.00649808\n",
      "Iteration 100, loss = 0.00639326\n",
      "Iteration 101, loss = 0.00622937\n",
      "Iteration 102, loss = 0.00615843\n",
      "Iteration 103, loss = 0.00610765\n",
      "Iteration 104, loss = 0.00607596\n",
      "Iteration 105, loss = 0.00601673\n",
      "Iteration 106, loss = 0.00582187\n",
      "Iteration 107, loss = 0.00574746\n",
      "Iteration 108, loss = 0.00560196\n",
      "Iteration 109, loss = 0.00554993\n",
      "Iteration 110, loss = 0.00549592\n",
      "Iteration 111, loss = 0.00537361\n",
      "Iteration 112, loss = 0.00532424\n",
      "Iteration 113, loss = 0.00542658\n",
      "Iteration 114, loss = 0.00509480\n",
      "Iteration 115, loss = 0.00505766\n",
      "Iteration 116, loss = 0.00501341\n",
      "Iteration 117, loss = 0.00491533\n",
      "Iteration 118, loss = 0.00483357\n",
      "Iteration 119, loss = 0.00479042\n",
      "Iteration 120, loss = 0.00475488\n",
      "Iteration 121, loss = 0.00473436\n",
      "Iteration 122, loss = 0.00460819\n",
      "Iteration 123, loss = 0.00455889\n",
      "Iteration 124, loss = 0.00447140\n",
      "Iteration 125, loss = 0.00442910\n",
      "Iteration 126, loss = 0.00437487\n",
      "Iteration 127, loss = 0.00435137\n",
      "Iteration 128, loss = 0.00429462\n",
      "Iteration 129, loss = 0.00422573\n",
      "Iteration 130, loss = 0.00417794\n",
      "Iteration 131, loss = 0.00416351\n",
      "Iteration 132, loss = 0.00410548\n",
      "Iteration 133, loss = 0.00404696\n",
      "Training loss did not improve more than tol=0.000100 for 10 consecutive epochs. Stopping.\n",
      "\n",
      "RESULTS FOR BEST NN\n",
      "\n",
      "Best NN training error: 0.000000\n",
      "Best NN test error: 0.210689\n"
     ]
    }
   ],
   "source": [
    "#get training and test error for the best NN model from CV\n",
    "\n",
    "best_mlp = MLPClassifier((100,), max_iter=300, alpha=1e-4, solver='sgd', tol=1e-4, learning_rate_init=.1,random_state=ID, verbose='true').fit(X_train, y_train)\n",
    "\n",
    "training_error = 1. - best_mlp.score(X_train,y_train)\n",
    "\n",
    "test_error = 1. - best_mlp.score(X_test,y_test)\n",
    "\n",
    "print ('\\nRESULTS FOR BEST NN\\n')\n",
    "\n",
    "print (\"Best NN training error: %f\" % training_error)\n",
    "print (\"Best NN test error: %f\" % test_error)"
   ]
  },
  {
   "cell_type": "markdown",
   "metadata": {},
   "source": [
    "## More data \n",
    "Now let's do the same but using 10000 (or less if it takes too long on your machine) data points for training. Use the same NN architectures as before, but you can try more if you want!"
   ]
  },
  {
   "cell_type": "code",
   "execution_count": 10,
   "metadata": {},
   "outputs": [
    {
     "name": "stdout",
     "output_type": "stream",
     "text": [
      "Labels and frequencies in training dataset: \n"
     ]
    },
    {
     "data": {
      "text/plain": [
       "(array([0, 1, 2, 3, 4, 5, 6, 7, 8, 9], dtype=uint8),\n",
       " array([515, 469, 516, 476, 514, 503, 506, 508, 485, 508], dtype=int64))"
      ]
     },
     "execution_count": 10,
     "metadata": {},
     "output_type": "execute_result"
    }
   ],
   "source": [
    "X = X[permutation]\n",
    "y = y[permutation]\n",
    "\n",
    "m_training = 5000\n",
    "\n",
    "X_train, X_test = X[:m_training], X[m_training:]\n",
    "y_train, y_test = y[:m_training], y[m_training:]\n",
    "\n",
    "print(\"Labels and frequencies in training dataset: \")\n",
    "np.unique(y_train, return_counts=True)"
   ]
  },
  {
   "cell_type": "markdown",
   "metadata": {},
   "source": [
    "## TO DO 4\n",
    "\n",
    "Now train the NNs with the added data points. Feel free to try more different architectures than before if you want, or less if it takes too much time. You can use 'verbose=True' so have an idea of how long it takes to run 1 iteration (eventually reduce also the number of iterations to 50)."
   ]
  },
  {
   "cell_type": "code",
   "execution_count": 11,
   "metadata": {
    "scrolled": true
   },
   "outputs": [
    {
     "name": "stdout",
     "output_type": "stream",
     "text": [
      "RESULTS FOR NN\n",
      "\n",
      "Best parameters set found:  MLPClassifier(learning_rate_init=0.1, max_iter=1000, random_state=2019136,\n",
      "              solver='sgd')\n",
      "Score with best parameters:  0.8399999999999999\n",
      "\n",
      "All scores on the grid:     mean_score_time  std_score_time  split0_test_score  split1_test_score  \\\n",
      "0         0.009406        0.003075              0.805              0.799   \n",
      "1         0.019612        0.001627              0.837              0.854   \n",
      "2         0.013409        0.008317              0.494              0.775   \n",
      "3         0.017813        0.002317              0.844              0.824   \n",
      "4         0.028817        0.010133              0.848              0.856   \n",
      "\n",
      "   split2_test_score  split3_test_score  split4_test_score  mean_test_score  \\\n",
      "0              0.786              0.732              0.793           0.7830   \n",
      "1              0.838              0.817              0.832           0.8356   \n",
      "2              0.341              0.743              0.652           0.6010   \n",
      "3              0.785              0.815              0.817           0.8170   \n",
      "4              0.838              0.819              0.839           0.8400   \n",
      "\n",
      "   std_test_score  rank_test_score  \n",
      "0        0.026268                4  \n",
      "1        0.011876                2  \n",
      "2        0.162536                5  \n",
      "3        0.019005                3  \n",
      "4        0.012377                1  \n"
     ]
    }
   ],
   "source": [
    "#for NN we try the same architectures as before\n",
    "hl_parameters = {'hidden_layer_sizes': [(10,), (50,), (10,10,), (50,50,), (100,)]}\n",
    "\n",
    "mlp_large_cv = MLPClassifier(max_iter=300, alpha=1e-4, solver='sgd', tol=1e-4, learning_rate_init=.1,random_state=ID)\n",
    "clf = GridSearchCV(mlp_cv, hl_parameters).fit(X_train, y_train)\n",
    "\n",
    "print ('RESULTS FOR NN\\n')\n",
    "\n",
    "print(\"Best parameters set found: \", clf.best_estimator_)\n",
    "print(\"Score with best parameters: \", clf.best_score_)\n",
    "print(\"\\nAll scores on the grid: \", pd.DataFrame.from_dict({name_score : score for (name_score, score) in clf.cv_results_.items() if \"score\" in name_score}))"
   ]
  },
  {
   "cell_type": "markdown",
   "metadata": {},
   "source": [
    "## TO DO 5\n",
    "Describe your architecture choices and the results you observe with respect to the architectures you used."
   ]
  },
  {
   "cell_type": "markdown",
   "metadata": {},
   "source": [
    "As before, by enlarging the training set (i used 5000 samples due to an otherwise long computational time) we have that the best model is still the (100,) one, with an improved accuracy of 0.839."
   ]
  },
  {
   "cell_type": "markdown",
   "metadata": {},
   "source": [
    "## TO DO 6\n",
    "\n",
    "Get the train and test error for the best NN you obtained with 10000 points. This time you can run for 100 iterations if you cannot run for 300 iterations. \n"
   ]
  },
  {
   "cell_type": "code",
   "execution_count": 12,
   "metadata": {},
   "outputs": [
    {
     "name": "stdout",
     "output_type": "stream",
     "text": [
      "Iteration 1, loss = 1.17566990\n",
      "Iteration 2, loss = 0.60010380\n",
      "Iteration 3, loss = 0.53933940\n",
      "Iteration 4, loss = 0.45566561\n",
      "Iteration 5, loss = 0.41439261\n",
      "Iteration 6, loss = 0.38532882\n",
      "Iteration 7, loss = 0.38498501\n",
      "Iteration 8, loss = 0.35738614\n",
      "Iteration 9, loss = 0.33435212\n",
      "Iteration 10, loss = 0.31390685\n",
      "Iteration 11, loss = 0.30741440\n",
      "Iteration 12, loss = 0.29909114\n",
      "Iteration 13, loss = 0.27737292\n",
      "Iteration 14, loss = 0.27367806\n",
      "Iteration 15, loss = 0.25741034\n",
      "Iteration 16, loss = 0.25874017\n",
      "Iteration 17, loss = 0.23082231\n",
      "Iteration 18, loss = 0.22493170\n",
      "Iteration 19, loss = 0.22899988\n",
      "Iteration 20, loss = 0.21326272\n",
      "Iteration 21, loss = 0.22871131\n",
      "Iteration 22, loss = 0.19232304\n",
      "Iteration 23, loss = 0.18345231\n",
      "Iteration 24, loss = 0.17481320\n",
      "Iteration 25, loss = 0.19814070\n",
      "Iteration 26, loss = 0.16996135\n",
      "Iteration 27, loss = 0.16299882\n",
      "Iteration 28, loss = 0.15226043\n",
      "Iteration 29, loss = 0.14647065\n",
      "Iteration 30, loss = 0.19121355\n",
      "Iteration 31, loss = 0.15878741\n",
      "Iteration 32, loss = 0.14416518\n",
      "Iteration 33, loss = 0.13430860\n",
      "Iteration 34, loss = 0.14150930\n",
      "Iteration 35, loss = 0.12105681\n",
      "Iteration 36, loss = 0.14889590\n",
      "Iteration 37, loss = 0.12120447\n",
      "Iteration 38, loss = 0.15414467\n",
      "Iteration 39, loss = 0.11829439\n",
      "Iteration 40, loss = 0.10784402\n",
      "Iteration 41, loss = 0.11153349\n",
      "Iteration 42, loss = 0.09772105\n",
      "Iteration 43, loss = 0.09989585\n",
      "Iteration 44, loss = 0.10344708\n",
      "Iteration 45, loss = 0.09444188\n",
      "Iteration 46, loss = 0.08486967\n",
      "Iteration 47, loss = 0.07985482\n",
      "Iteration 48, loss = 0.10750679\n",
      "Iteration 49, loss = 0.07359405\n",
      "Iteration 50, loss = 0.07689527\n",
      "Iteration 51, loss = 0.07738963\n",
      "Iteration 52, loss = 0.06989618\n",
      "Iteration 53, loss = 0.07677706\n",
      "Iteration 54, loss = 0.07043930\n",
      "Iteration 55, loss = 0.05499715\n",
      "Iteration 56, loss = 0.05863513\n",
      "Iteration 57, loss = 0.06753711\n",
      "Iteration 58, loss = 0.10053368\n",
      "Iteration 59, loss = 0.07312460\n",
      "Iteration 60, loss = 0.05270324\n",
      "Iteration 61, loss = 0.04267900\n",
      "Iteration 62, loss = 0.03838687\n",
      "Iteration 63, loss = 0.03524022\n",
      "Iteration 64, loss = 0.04218173\n",
      "Iteration 65, loss = 0.03920451\n",
      "Iteration 66, loss = 0.03216028\n",
      "Iteration 67, loss = 0.03318858\n",
      "Iteration 68, loss = 0.02605703\n",
      "Iteration 69, loss = 0.02870327\n",
      "Iteration 70, loss = 0.02572864\n",
      "Iteration 71, loss = 0.02887634\n",
      "Iteration 72, loss = 0.02555653\n",
      "Iteration 73, loss = 0.02406352\n",
      "Iteration 74, loss = 0.03152853\n",
      "Iteration 75, loss = 0.04920086\n",
      "Iteration 76, loss = 0.02339281\n",
      "Iteration 77, loss = 0.01881286\n",
      "Iteration 78, loss = 0.03409040\n",
      "Iteration 79, loss = 0.02915588\n",
      "Iteration 80, loss = 0.02240295\n",
      "Iteration 81, loss = 0.01737684\n",
      "Iteration 82, loss = 0.01532167\n",
      "Iteration 83, loss = 0.01412151\n",
      "Iteration 84, loss = 0.01276519\n",
      "Iteration 85, loss = 0.01082114\n",
      "Iteration 86, loss = 0.01014370\n",
      "Iteration 87, loss = 0.00962165\n",
      "Iteration 88, loss = 0.02299454\n",
      "Iteration 89, loss = 0.01600149\n",
      "Iteration 90, loss = 0.02300952\n",
      "Iteration 91, loss = 0.02638368\n",
      "Iteration 92, loss = 0.01120004\n",
      "Iteration 93, loss = 0.01133740\n",
      "Iteration 94, loss = 0.00832710\n",
      "Iteration 95, loss = 0.00869628\n",
      "Iteration 96, loss = 0.01148105\n",
      "Iteration 97, loss = 0.01107800\n",
      "Iteration 98, loss = 0.00707103\n",
      "Iteration 99, loss = 0.00706349\n",
      "Iteration 100, loss = 0.00738647\n",
      "Iteration 101, loss = 0.00651982\n",
      "Iteration 102, loss = 0.00875111\n",
      "Iteration 103, loss = 0.00642412\n",
      "Iteration 104, loss = 0.00522631\n",
      "Iteration 105, loss = 0.00511768\n",
      "Iteration 106, loss = 0.00510842\n",
      "Iteration 107, loss = 0.00455278\n",
      "Iteration 108, loss = 0.00443157\n",
      "Iteration 109, loss = 0.00475408\n",
      "Iteration 110, loss = 0.00435473\n",
      "Iteration 111, loss = 0.00419552\n",
      "Iteration 112, loss = 0.00444561\n",
      "Iteration 113, loss = 0.00400162\n",
      "Iteration 114, loss = 0.00392516\n",
      "Iteration 115, loss = 0.00402500\n",
      "Iteration 116, loss = 0.00383455\n",
      "Iteration 117, loss = 0.00387258\n",
      "Iteration 118, loss = 0.00372854\n",
      "Iteration 119, loss = 0.00336100\n",
      "Iteration 120, loss = 0.00338785\n",
      "Iteration 121, loss = 0.00343246\n",
      "Iteration 122, loss = 0.00329240\n",
      "Iteration 123, loss = 0.00347823\n",
      "Iteration 124, loss = 0.00324180\n",
      "Iteration 125, loss = 0.00314735\n",
      "Iteration 126, loss = 0.00350172\n",
      "Iteration 127, loss = 0.00297730\n",
      "Iteration 128, loss = 0.00293712\n",
      "Iteration 129, loss = 0.00308682\n",
      "Iteration 130, loss = 0.00293569\n",
      "Iteration 131, loss = 0.00291427\n",
      "Iteration 132, loss = 0.00279583\n",
      "Iteration 133, loss = 0.00280253\n",
      "Iteration 134, loss = 0.00272161\n",
      "Iteration 135, loss = 0.00270440\n",
      "Iteration 136, loss = 0.00263363\n",
      "Iteration 137, loss = 0.00258398\n",
      "Iteration 138, loss = 0.00250708\n",
      "Iteration 139, loss = 0.00277404\n",
      "Iteration 140, loss = 0.00256268\n",
      "Iteration 141, loss = 0.00243853\n",
      "Iteration 142, loss = 0.00242656\n",
      "Iteration 143, loss = 0.00239107\n",
      "Training loss did not improve more than tol=0.000100 for 10 consecutive epochs. Stopping.\n",
      "RESULTS FOR BEST NN\n",
      "\n",
      "Best NN training error: 0.000000\n",
      "Best NN test error: 0.151273\n"
     ]
    }
   ],
   "source": [
    "#get training and test error for the best NN model from CV\n",
    "\n",
    "best_mlp_large = MLPClassifier((100,), max_iter=300, alpha=1e-4, solver='sgd', tol=1e-4, learning_rate_init=.1,random_state=ID, verbose='true').fit(X_train, y_train)\n",
    "\n",
    "training_error = 1. - best_mlp_large.score(X_train,y_train)\n",
    "\n",
    "test_error = 1. - best_mlp_large.score(X_test,y_test)\n",
    "\n",
    "print ('RESULTS FOR BEST NN\\n')\n",
    "\n",
    "print (\"Best NN training error: %f\" % training_error)\n",
    "print (\"Best NN test error: %f\" % test_error)"
   ]
  },
  {
   "cell_type": "markdown",
   "metadata": {},
   "source": [
    "## TO DO 7\n",
    "\n",
    "Compare the train and test error you got with a large number of samples with the best one you obtained with only 500 data points. Are the architectures the same or do they differ? What about the errors you get?"
   ]
  },
  {
   "cell_type": "markdown",
   "metadata": {},
   "source": [
    "For the 5000-samples training set i ended up still choosing (100,). The training error remained 0 while the test error diminished from 0.210689 (with 500 samples) to 0.151273 (with 5000 samples)."
   ]
  },
  {
   "cell_type": "markdown",
   "metadata": {},
   "source": [
    "## TO DO 8\n",
    "\n",
    "Plot an image that was missclassified by NN with m=500 training data points and it is now instead correctly classified by NN with m=10000 training data points."
   ]
  },
  {
   "cell_type": "code",
   "execution_count": 13,
   "metadata": {},
   "outputs": [
    {
     "name": "stdout",
     "output_type": "stream",
     "text": [
      "Index ---> 0\n",
      "label 500 samples ---> 9\n",
      "label 10000 samples ---> 5\n",
      "INPUT:\n"
     ]
    },
    {
     "data": {
      "image/png": "[encoded data removed]",
      "text/plain": [
       "<Figure size 432x288 with 1 Axes>"
      ]
     },
     "metadata": {
      "needs_background": "light"
     },
     "output_type": "display_data"
    },
    {
     "name": "stdout",
     "output_type": "stream",
     "text": [
      "LABEL: 5\n"
     ]
    }
   ],
   "source": [
    "y_predicted_500 = best_mlp.predict(X_test)\n",
    "y_predicted_5000= best_mlp_large.predict(X_test)\n",
    "for i in range(0, len(X_test)):\n",
    "    if y_predicted_500[i] != y_test[i]:\n",
    "        if y_predicted_5000[i] == y_test[i]:\n",
    "            break\n",
    "print(\"Index ---> \"+ str(i))\n",
    "print(\"label 500 samples ---> \" + str(y_predicted_500[i]))\n",
    "print(\"label 10000 samples ---> \" + str(y_predicted_5000[i]))\n",
    "plot_input(X_test,y_test,i)"
   ]
  },
  {
   "cell_type": "markdown",
   "metadata": {},
   "source": [
    "Let's plot some of the weigths of the multi-layer perceptron classifier, for the best NN we get with 500 data points and with 10000 data points. The code below plots the weights in a matrix form, where a figure represents all the weights of the edges entering in a hidden node. Notice that the code assumes that the NNs are called \"mlp\" and \"best_mlp_large\": you may need to replace such variables with your variable names. \n",
    "\n"
   ]
  },
  {
   "cell_type": "code",
   "execution_count": 14,
   "metadata": {
    "scrolled": true
   },
   "outputs": [
    {
     "name": "stdout",
     "output_type": "stream",
     "text": [
      "Weights with 500 data points:\n"
     ]
    },
    {
     "data": {
      "image/png": "[encoded data removed]",
      "text/plain": [
       "<Figure size 432x288 with 16 Axes>"
      ]
     },
     "metadata": {},
     "output_type": "display_data"
    },
    {
     "name": "stdout",
     "output_type": "stream",
     "text": [
      "Weights with 5000 data points:\n"
     ]
    },
    {
     "data": {
      "image/png": "[encoded data removed]",
      "text/plain": [
       "<Figure size 432x288 with 16 Axes>"
      ]
     },
     "metadata": {},
     "output_type": "display_data"
    }
   ],
   "source": [
    "print(\"Weights with 500 data points:\")\n",
    "\n",
    "fig, axes = plt.subplots(4, 4)\n",
    "vmin, vmax = best_mlp.coefs_[0].min(), best_mlp.coefs_[0].max()\n",
    "for coef, ax in zip(best_mlp.coefs_[0].T, axes.ravel()):\n",
    "    ax.matshow(coef.reshape(28, 28), cmap=plt.cm.gray, vmin=.5 * vmin, vmax=.5 * vmax)\n",
    "    ax.set_xticks(())\n",
    "    ax.set_yticks(())\n",
    "\n",
    "plt.show()\n",
    "\n",
    "print(\"Weights with 5000 data points:\")\n",
    "\n",
    "fig, axes = plt.subplots(4, 4)\n",
    "vmin, vmax = best_mlp_large.coefs_[0].min(), best_mlp_large.coefs_[0].max()\n",
    "for coef, ax in zip(best_mlp_large.coefs_[0].T, axes.ravel()):\n",
    "    ax.matshow(coef.reshape(28, 28), cmap=plt.cm.gray, vmin=.5 * vmin, vmax=.5 * vmax)\n",
    "    ax.set_xticks(())\n",
    "    ax.set_yticks(())\n",
    "plt.show()"
   ]
  },
  {
   "cell_type": "markdown",
   "metadata": {},
   "source": [
    "## TO DO 9\n",
    "\n",
    "Describe what do you observe by looking at the weights.\n",
    "\n",
    "Looking at the weights we can observe how they tend to be more omogeneous and greyish when we enlarge the training set to 5000 samples in comparison of what we obtained with 500 samples, suggesting a decrease on the quantity of noise."
   ]
  },
  {
   "cell_type": "markdown",
   "metadata": {},
   "source": [
    "## TO DO 10\n",
    "\n",
    "Pick another classifier among the ones we have seen previously (SVM or something else). Report the training and test error for such classifier with 10000 samples in the training set, if possible; if the classifier cannot run with so many data sample reduce the number of samples.\n",
    "\n",
    "*Note*: if there are parameters to be optimized use cross-validation. If you choose SVM, you can decide if you want to use a single kernel or use the best among many; in the latter case, you need to pick the best kernel using cross-validation (using the functions available in sklearn).\n",
    "\n",
    "**[Logistic Regression]**\n",
    "  "
   ]
  },
  {
   "cell_type": "code",
   "execution_count": 19,
   "metadata": {
    "scrolled": true
   },
   "outputs": [
    {
     "name": "stdout",
     "output_type": "stream",
     "text": [
      "RESULTS FOR OTHER CLASSIFIER\n",
      "\n",
      "Best training error (other model): 0.050400\n",
      "Best test error (other model): 0.175945\n"
     ]
    }
   ],
   "source": [
    "# ADD YOUR CODE\n",
    "from sklearn import linear_model\n",
    "\n",
    "lr = linear_model.LogisticRegression(max_iter = 1000).fit(X_train, y_train)\n",
    "\n",
    "training_error_other = 1. - lr.score(X_train,y_train)\n",
    "\n",
    "test_error_other = 1. - lr.score(X_test,y_test)\n",
    "\n",
    "print ('RESULTS FOR OTHER CLASSIFIER\\n')\n",
    "\n",
    "print (\"Best training error (other model): %f\" % training_error_other)\n",
    "print (\"Best test error (other model): %f\" % test_error_other)"
   ]
  },
  {
   "cell_type": "markdown",
   "metadata": {
    "collapsed": true
   },
   "source": [
    "## TO DO 11\n",
    "Compare the results of NN and of the other classifier you have chosen above. Which classifier would you preferer? Provide a brief explanation."
   ]
  },
  {
   "cell_type": "markdown",
   "metadata": {
    "collapsed": true
   },
   "source": [
    "I chose a logistic regression classifier to do the comparison with the best NN architecture i found (one layer with 100 neurons). After training them with 5000 samples, the former obtained a training error of 0.050400 and a test error of 0.175945 and the latter had 0 training error and achieved a test error of 0.151273. Therefore NN with (100,) still remains the best classifier and it is to preferred. "
   ]
  },
  {
   "cell_type": "markdown",
   "metadata": {},
   "source": [
    "# Clustering with K-means\n",
    "\n",
    "Clustering is a useful technique for *unsupervised* learning. We are now going to cluster 2000 images in the fashion MNIST dataset, and try to understand if the clusters we obtain correspond to the true labels."
   ]
  },
  {
   "cell_type": "code",
   "execution_count": 20,
   "metadata": {},
   "outputs": [],
   "source": [
    "#load the required packages\n",
    "\n",
    "from sklearn import metrics\n",
    "from sklearn.cluster import KMeans"
   ]
  },
  {
   "cell_type": "markdown",
   "metadata": {},
   "source": [
    "(Note that the code below assumes that the data has already been transformed as in the NN part of the notebook, so make sure to run the code for the transformation even if you do not complete the part on NN.)"
   ]
  },
  {
   "cell_type": "code",
   "execution_count": 21,
   "metadata": {},
   "outputs": [],
   "source": [
    "#let's consider only 2000 data points\n",
    "\n",
    "X = X[permutation]\n",
    "y = y[permutation]\n",
    "\n",
    "m_training = 2000\n",
    "\n",
    "X_train, X_test = X[:m_training], X[m_training:]\n",
    "y_train, y_test = y[:m_training], y[m_training:]"
   ]
  },
  {
   "cell_type": "markdown",
   "metadata": {},
   "source": [
    "## TO DO 1\n",
    "Cluster the points using the KMeans() and fit() functions (see the userguide for details). For Kmeans, set: n_clusters=10 as number of clusters; n_init=10 as the number of times the algorithm will be run with different centroid seeds; random_state = ID. You can use the default setting for the other parameters."
   ]
  },
  {
   "cell_type": "code",
   "execution_count": 22,
   "metadata": {},
   "outputs": [],
   "source": [
    "kmeans = KMeans(n_clusters=10, n_init=10, random_state=ID).fit(X_train)"
   ]
  },
  {
   "cell_type": "markdown",
   "metadata": {},
   "source": [
    "## Comparison of clusters with true labels"
   ]
  },
  {
   "cell_type": "markdown",
   "metadata": {},
   "source": [
    "## TO DO 2\n",
    "Now compare the obtained clusters with the true labels, using the function sklearn.metrics.cluster.contingency_matrix() (see the userguide for details). The function prints a matrix $A$ such that entry $A_{i,j}$ is is the number of samples in true class $i$ and in predicted class $j$."
   ]
  },
  {
   "cell_type": "code",
   "execution_count": 25,
   "metadata": {
    "scrolled": true
   },
   "outputs": [
    {
     "name": "stdout",
     "output_type": "stream",
     "text": [
      "[[  0 138   4   0   1  36  14   5   1   6]\n",
      " [  0   9   1   0   0   5   4 175   0   0]\n",
      " [  0   3  56   0   0  62  13   1   1  76]\n",
      " [  0  55   3   0   0  25  11  90   0   0]\n",
      " [  0  26 108   0   0  32   3   4   0  39]\n",
      " [ 15   1   0   0  48   2 130   0   0   0]\n",
      " [  0  45  33   1   1  75  20   0   1  38]\n",
      " [  6   0   0   0 155   0  27   0   1   0]\n",
      " [  0   0   0  87   7  13  14   0  77   9]\n",
      " [154   0   0   0  22   3   7   0   1   0]]\n",
      "\n",
      "[[   0 3442   39   27    1 1592  339  164   16  175]\n",
      " [   0  224   38    0    0  161  122 5225    1   35]\n",
      " [   0   81 1618   25    1 1718  300    6   18 2021]\n",
      " [   0 1657   58    8    0  754  341 2978    3   17]\n",
      " [   0  655 2811   23    0  957  139  143   11 1049]\n",
      " [ 457    2    0   11 1445   60 3813    2   14    0]\n",
      " [   2 1074 1066   20    5 2033  490   43   41 1012]\n",
      " [ 227    0    0    0 4963    1  605    0   15    0]\n",
      " [  12   25   40 2377  234  405  332   14 2049  305]\n",
      " [4780   10    6    2  740   54  188    3   28    2]]\n"
     ]
    }
   ],
   "source": [
    "# compute and print the contingency matrix for the true labels vs the clustering assignments\n",
    "y_test_predicted = kmeans.predict(X_test)\n",
    "y_train_predicted = kmeans.predict(X_train)\n",
    "matrix_train = sklearn.metrics.cluster.contingency_matrix(y_train, y_train_predicted)\n",
    "matrix_test = sklearn.metrics.cluster.contingency_matrix(y_test, y_test_predicted)\n",
    "print(matrix_train)\n",
    "print()\n",
    "print(matrix_test)"
   ]
  },
  {
   "cell_type": "markdown",
   "metadata": {},
   "source": [
    "## TO DO 3\n",
    "Based on the matrix shown above, comment on the results of clustering in terms of adherence to the true labels.\n",
    "\n",
    "The best possible case occurs when the matrix is diagonal, a result that would suggest an accuracy of 100% in classification. However, this is certaintly not our case; matter of fact, the matrix seems far from perfect, with the majority of entries $A_{i,j}$ such that i != j that are different from zero, showing that the accuracy of our classificator is quite low."
   ]
  },
  {
   "cell_type": "markdown",
   "metadata": {},
   "source": [
    "## Choice of k with silhoutte coefficient\n",
    "In many real applications it is unclear what is the correct value of $k$ to use. In practice one tries different values of $k$ and then uses some external score to choose a value of $k$. One such score is the silhoutte coefficient, that can be computed with metrics.silhouette_score(). See the definition of the silhoutte coefficient in the userguide."
   ]
  },
  {
   "cell_type": "markdown",
   "metadata": {},
   "source": [
    "## TO DO 4\n",
    "Compute the clustering for k=2,3,...,15 (other parameters as above) and print the silhoutte coefficient for each such clustering."
   ]
  },
  {
   "cell_type": "code",
   "execution_count": 31,
   "metadata": {
    "scrolled": false
   },
   "outputs": [
    {
     "name": "stdout",
     "output_type": "stream",
     "text": [
      "Silhoutte coefficient for number of clusters=2: 0.19759683648501095\n",
      "Silhoutte coefficient for number of clusters=3: 0.19138963408758325\n",
      "Silhoutte coefficient for number of clusters=4: 0.18488295712462693\n",
      "Silhoutte coefficient for number of clusters=5: 0.16611658608202415\n",
      "Silhoutte coefficient for number of clusters=6: 0.15650300469889825\n",
      "Silhoutte coefficient for number of clusters=7: 0.16735294043089566\n",
      "Silhoutte coefficient for number of clusters=8: 0.15387058707873036\n",
      "Silhoutte coefficient for number of clusters=9: 0.15591976908706262\n",
      "Silhoutte coefficient for number of clusters=10: 0.13909505869155422\n",
      "Silhoutte coefficient for number of clusters=11: 0.13829703898493653\n",
      "Silhoutte coefficient for number of clusters=12: 0.13349338861473\n",
      "Silhoutte coefficient for number of clusters=13: 0.12798974106194694\n",
      "Silhoutte coefficient for number of clusters=14: 0.12820941116178283\n",
      "Silhoutte coefficient for number of clusters=15: 0.12467546191529123\n"
     ]
    }
   ],
   "source": [
    "#run k-means with 10 choices of initial centroids for a range of values of n_clusters\n",
    "for i in range(2,16):\n",
    "    kmeans = KMeans(n_clusters=i, n_init=10, random_state=ID).fit(X_train)\n",
    "    silhouttescore = sklearn.metrics.silhouette_score(X_train, kmeans.predict(X_train), metric='euclidean')\n",
    "    print(\"Silhoutte coefficient for number of clusters=\"+str(i)+\": \"+str(silhouttescore))"
   ]
  },
  {
   "cell_type": "markdown",
   "metadata": {},
   "source": [
    "## TO DO 5\n",
    "\n",
    "Based on the silhoutte score, which $k$ would you pick? Motivate your choice. Does your choice match what you know about the data? If yes, explain why you think this is the case; if no, explain what you think may be the reason."
   ]
  },
  {
   "cell_type": "markdown",
   "metadata": {},
   "source": [
    "Based only on the silhoutte scores calculated on the training set (i couldn't do it on the test set because it was too big) my choice would be to pick k = 2, that is, the higher score obtained among all the tested values of k (the higher the value, the furthest the sample is from neighboring clusters). However, we know that the MNIST dataset is divided in 10 different classes, so such value of k cannot be the correct one. A possible explanation for this mismatch is that in the feature space samples tend to group themselves in a way that a \"supercluster\" formed by of k clusters (each one corresponding to a class) — which may be separated one from the other — is produced. Nevertheless, the intra-distances between these k classes in this supercluster are somehow still very low compared to the inter-distance between the supercluster in which they are contained and another supercluster composed of the remaining j classes, with k + j = 10. Therefore, the model prefers to pick k = 2 to emphasize the division in these 2 superclusters."
   ]
  }
 ],
 "metadata": {
  "kernelspec": {
   "display_name": "Python 3",
   "language": "python",
   "name": "python3"
  },
  "language_info": {
   "codemirror_mode": {
    "name": "ipython",
    "version": 3
   },
   "file_extension": ".py",
   "mimetype": "text/x-python",
   "name": "python",
   "nbconvert_exporter": "python",
   "pygments_lexer": "ipython3",
   "version": "3.8.3"
  }
 },
 "nbformat": 4,
 "nbformat_minor": 2
}
