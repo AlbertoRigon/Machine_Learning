{
 "cells": [
  {
   "cell_type": "markdown",
   "metadata": {},
   "source": [
    "# SVM for classification, without and with kernels\n",
    "\n",
    "In this notebook we are going to explore the use of Support Vector Machines (SVMs) for image classification. We are going to use the famous MNIST dataset, that is a dataset of handwritten digits. We get the data from mldata.org, that is a public repository for machine learning data.\n",
    "\n",
    "The dataset consists of 70,000 images of handwritten digits (i.e., 0, 1, ... 9). Each image is 28 pixels by 28 pixels and we can think of it as a vector of 28x28 = 784 numbers. Each number is an integer between 0 and 255. For each image we have the corresponding label (i.e., 0, 1, ..., 9)."
   ]
  },
  {
   "cell_type": "code",
   "execution_count": 2,
   "metadata": {},
   "outputs": [],
   "source": [
    "#load the required packages\n",
    "\n",
    "%matplotlib inline  \n",
    "\n",
    "import numpy as np\n",
    "import matplotlib.pyplot as plt\n",
    "\n",
    "import sklearn\n",
    "from sklearn.datasets import fetch_openml"
   ]
  },
  {
   "cell_type": "code",
   "execution_count": 3,
   "metadata": {},
   "outputs": [],
   "source": [
    "#fix your ID (\"numero di matricola\") and the seed for random generator\n",
    "ID = 2019136\n",
    "np.random.seed(ID)"
   ]
  },
  {
   "cell_type": "markdown",
   "metadata": {},
   "source": [
    "Now let's load the dataset. 'data' contains the input, 'target' contains the label. We normalize the data by dividing each value by 255 so that each value is in [0,1]"
   ]
  },
  {
   "cell_type": "code",
   "execution_count": 4,
   "metadata": {},
   "outputs": [],
   "source": [
    "#load the MNIST dataset and let's normalize the features so that each value is in [0,1]\n",
    "mnist = fetch_openml('mnist_784', version=1)\n",
    "# rescale the data\n",
    "X, y = mnist.data / 255., mnist.target"
   ]
  },
  {
   "cell_type": "markdown",
   "metadata": {},
   "source": [
    "Now split into training and test. We keep 500 samples in the training set. Make sure that each label is present at least 10 times\n",
    "in training. If it is not, then keep adding permutations to the initial data until this \n",
    "happens.\n",
    "\n",
    "**IMPORTANT**: if you cannot run the SVM with 500 samples or 1000 samples (see below), try with a smaller number of samples (e.g. 200 here and 400 below)."
   ]
  },
  {
   "cell_type": "code",
   "execution_count": 5,
   "metadata": {
    "scrolled": true
   },
   "outputs": [
    {
     "name": "stdout",
     "output_type": "stream",
     "text": [
      "Labels in training dataset:  ['0' '1' '2' '3' '4' '5' '6' '7' '8' '9']\n",
      "Frequencies in training dataset:  [55 58 49 51 42 44 58 41 60 42]\n"
     ]
    }
   ],
   "source": [
    "#random permute the data and split into training and test taking the first 500\n",
    "#data samples as training and the rests as test\n",
    "permutation = np.random.permutation(X.shape[0])\n",
    "\n",
    "X = X[permutation]\n",
    "y = y[permutation]\n",
    "\n",
    "m_training = 500\n",
    "\n",
    "X_train, X_test = X[:m_training], X[m_training:]\n",
    "y_train, y_test = y[:m_training], y[m_training:]\n",
    "\n",
    "labels, freqs = np.unique(y_train, return_counts = True)\n",
    "print(\"Labels in training dataset: \", labels)\n",
    "print(\"Frequencies in training dataset: \", freqs)"
   ]
  },
  {
   "cell_type": "markdown",
   "metadata": {},
   "source": [
    "We now provide a function to print an image in a dataset, the corresponding true label, and the index of the image in the dataset."
   ]
  },
  {
   "cell_type": "code",
   "execution_count": 6,
   "metadata": {},
   "outputs": [],
   "source": [
    "#function for plotting a digit and printing the corresponding labe\n",
    "def plot_digit(X_matrix, labels, index):\n",
    "    print(\"INPUT:\")\n",
    "    plt.imshow(\n",
    "        X_matrix[index].reshape(28,28),\n",
    "        cmap          = plt.cm.gray_r,\n",
    "        interpolation = \"nearest\"\n",
    "    )\n",
    "    plt.show()\n",
    "    print(\"LABEL: %s\" % labels[index])\n",
    "    return"
   ]
  },
  {
   "cell_type": "markdown",
   "metadata": {},
   "source": [
    "As an example, let's print the 100-th image in X_train and the 40,000-th image in X_test and their true labels."
   ]
  },
  {
   "cell_type": "code",
   "execution_count": 7,
   "metadata": {},
   "outputs": [
    {
     "name": "stdout",
     "output_type": "stream",
     "text": [
      "INPUT:\n"
     ]
    },
    {
     "data": {
      "image/png": "[encoded data removed]",
      "text/plain": [
       "<Figure size 432x288 with 1 Axes>"
      ]
     },
     "metadata": {
      "needs_background": "light"
     },
     "output_type": "display_data"
    },
    {
     "name": "stdout",
     "output_type": "stream",
     "text": [
      "LABEL: 0\n",
      "INPUT:\n"
     ]
    },
    {
     "data": {
      "image/png": "[encoded data removed]",
      "text/plain": [
       "<Figure size 432x288 with 1 Axes>"
      ]
     },
     "metadata": {
      "needs_background": "light"
     },
     "output_type": "display_data"
    },
    {
     "name": "stdout",
     "output_type": "stream",
     "text": [
      "LABEL: 9\n"
     ]
    }
   ],
   "source": [
    "#let's try the plotting function\n",
    "plot_digit(X_train,y_train,100)\n",
    "plot_digit(X_test,y_test,40000)"
   ]
  },
  {
   "cell_type": "markdown",
   "metadata": {},
   "source": [
    "## TO DO 1\n",
    "Run SVM with cross validation to pick a kernel and values of parameters. Use a 5-fold cross-validation to pick the best kernel and choice of parameters. We provide some potential choice for parameters, but change the grid if needed (e.g., it takes too long). For the SVM for classification use SVC from sklearn.svm; for the grid search we suggest you use GridSearchCV from sklearn.model_selection, but you can implement your own cross-validation for model selection if you prefer.\n",
    "\n",
    "Print the best parameters used as well as the score obtained by the best model"
   ]
  },
  {
   "cell_type": "code",
   "execution_count": 8,
   "metadata": {},
   "outputs": [
    {
     "name": "stdout",
     "output_type": "stream",
     "text": [
      "RESULTS FOR LINEAR KERNEL\n",
      "\n",
      "Best parameters set found:\n",
      "SVC(C=1, kernel='linear')\n",
      "Score with best parameters:\n",
      "0.858\n",
      "\n",
      "All scores on the grid:\n",
      "   mean_score_time  std_score_time  split0_test_score  split1_test_score  \\\n",
      "0         0.042427        0.000802               0.82               0.81   \n",
      "1         0.042829        0.000399               0.82               0.81   \n",
      "2         0.043828        0.002317               0.82               0.81   \n",
      "\n",
      "   split2_test_score  split3_test_score  split4_test_score  mean_test_score  \\\n",
      "0                0.9               0.88               0.88            0.858   \n",
      "1                0.9               0.88               0.88            0.858   \n",
      "2                0.9               0.88               0.88            0.858   \n",
      "\n",
      "   std_test_score  rank_test_score  \n",
      "0           0.036                1  \n",
      "1           0.036                1  \n",
      "2           0.036                1  \n",
      "\n",
      "RESULTS FOR POLY DEGREE=2 KERNEL\n",
      "\n",
      "Best parameters set found:\n",
      "SVC(C=1, degree=2, gamma=0.1, kernel='poly')\n",
      "Score with best parameters:\n",
      "0.8720000000000001\n",
      "\n",
      "All scores on the grid:\n",
      "   mean_score_time  std_score_time  split0_test_score  split1_test_score  \\\n",
      "0         0.046231        0.000402               0.90               0.82   \n",
      "1         0.042427        0.001200               0.87               0.82   \n",
      "2         0.041828        0.000749               0.87               0.82   \n",
      "3         0.042028        0.000896               0.87               0.82   \n",
      "4         0.043629        0.001857               0.87               0.82   \n",
      "5         0.043027        0.001551               0.87               0.82   \n",
      "6         0.042226        0.000750               0.87               0.82   \n",
      "7         0.042229        0.001168               0.87               0.82   \n",
      "8         0.042228        0.000982               0.87               0.82   \n",
      "\n",
      "   split2_test_score  split3_test_score  split4_test_score  mean_test_score  \\\n",
      "0               0.89               0.86               0.84            0.862   \n",
      "1               0.93               0.89               0.85            0.872   \n",
      "2               0.93               0.89               0.85            0.872   \n",
      "3               0.93               0.89               0.85            0.872   \n",
      "4               0.93               0.89               0.85            0.872   \n",
      "5               0.93               0.89               0.85            0.872   \n",
      "6               0.93               0.89               0.85            0.872   \n",
      "7               0.93               0.89               0.85            0.872   \n",
      "8               0.93               0.89               0.85            0.872   \n",
      "\n",
      "   std_test_score  rank_test_score  \n",
      "0        0.029933                9  \n",
      "1        0.037094                1  \n",
      "2        0.037094                1  \n",
      "3        0.037094                1  \n",
      "4        0.037094                1  \n",
      "5        0.037094                1  \n",
      "6        0.037094                1  \n",
      "7        0.037094                1  \n",
      "8        0.037094                1  \n",
      "\n",
      "RESULTS FOR rbf KERNEL\n",
      "\n",
      "Best parameters set found:\n",
      "SVC(C=10, gamma=0.01)\n",
      "Score with best parameters:\n",
      "0.8960000000000001\n",
      "\n",
      "All scores on the grid:\n",
      "   mean_score_time  std_score_time  split0_test_score  split1_test_score  \\\n",
      "0         0.051835        0.000400               0.89               0.83   \n",
      "1         0.056637        0.000491               0.37               0.37   \n",
      "2         0.057440        0.000490               0.14               0.14   \n",
      "3         0.056035        0.007074               0.90               0.85   \n",
      "4         0.059438        0.002579               0.40               0.41   \n",
      "5         0.057239        0.000400               0.14               0.14   \n",
      "6         0.050832        0.001834               0.90               0.85   \n",
      "7         0.056636        0.000489               0.40               0.41   \n",
      "8         0.057037        0.000001               0.14               0.14   \n",
      "\n",
      "   split2_test_score  split3_test_score  split4_test_score  mean_test_score  \\\n",
      "0               0.90               0.91               0.89            0.884   \n",
      "1               0.45               0.41               0.38            0.396   \n",
      "2               0.13               0.14               0.12            0.134   \n",
      "3               0.93               0.90               0.90            0.896   \n",
      "4               0.48               0.50               0.44            0.446   \n",
      "5               0.14               0.15               0.12            0.138   \n",
      "6               0.93               0.90               0.90            0.896   \n",
      "7               0.48               0.50               0.44            0.446   \n",
      "8               0.14               0.15               0.12            0.138   \n",
      "\n",
      "   std_test_score  rank_test_score  \n",
      "0        0.028000                3  \n",
      "1        0.030725                6  \n",
      "2        0.008000                9  \n",
      "3        0.025768                1  \n",
      "4        0.038781                4  \n",
      "5        0.009798                7  \n",
      "6        0.025768                1  \n",
      "7        0.038781                4  \n",
      "8        0.009798                7  \n"
     ]
    }
   ],
   "source": [
    "#import SVC\n",
    "from sklearn.svm import SVC\n",
    "#import for Cross-Validation\n",
    "from sklearn.model_selection import GridSearchCV\n",
    "#import pandas for a better visualization of the results\n",
    "import pandas as pd\n",
    "\n",
    "# parameters for linear SVM\n",
    "parameters = {'C': [1, 10, 100]}\n",
    "\n",
    "#run linear SVM\n",
    "linear_SVM = SVC(kernel='linear')\n",
    "\n",
    "#find best model using 5-fold CV \n",
    "#and train it using all the training data\n",
    "clf = GridSearchCV(linear_SVM, parameters)\n",
    "clf.fit(X_train, y_train)\n",
    "\n",
    "print ('RESULTS FOR LINEAR KERNEL\\n')\n",
    "\n",
    "print(\"Best parameters set found:\")\n",
    "print(clf.best_estimator_)\n",
    "\n",
    "print(\"Score with best parameters:\")\n",
    "print(clf.best_score_)\n",
    "\n",
    "print(\"\\nAll scores on the grid:\")\n",
    "print(pd.DataFrame.from_dict({name_score : score for (name_score, score) in clf.cv_results_.items() if \"score\" in name_score}))\n",
    "\n",
    "# parameters for poly with degree 2 kernel\n",
    "parameters = {'C': [1, 10, 100],'gamma':[0.01,0.1,1.]}\n",
    "\n",
    "#run SVM with poly of degree 2 kernel\n",
    "poly2_SVM = SVC(kernel='poly',degree=2)\n",
    "\n",
    "# ADD CODE: DO THE SAME AS ABOVE FOR POLYNOMIAL KERNEL WITH DEGREE=2\n",
    "clf = GridSearchCV(poly2_SVM, parameters)\n",
    "clf.fit(X_train, y_train)\n",
    "\n",
    "print ('\\nRESULTS FOR POLY DEGREE=2 KERNEL\\n')\n",
    "\n",
    "print(\"Best parameters set found:\")\n",
    "print(clf.best_estimator_)\n",
    "\n",
    "print(\"Score with best parameters:\")\n",
    "print(clf.best_score_)\n",
    "\n",
    "print(\"\\nAll scores on the grid:\")\n",
    "print(pd.DataFrame.from_dict({name_score : score for (name_score, score) in clf.cv_results_.items() if \"score\" in name_score}))\n",
    "\n",
    "# parameters for rbf SVM\n",
    "parameters = {'C': [1, 10, 100],'gamma':[0.01,0.1,1.]}\n",
    "\n",
    "#run SVM with rbf kernel\n",
    "rbf_SVM = SVC(kernel='rbf')\n",
    "\n",
    "# ADD CODE: DO THE SAME AS ABOVE FOR RBF KERNEL\n",
    "clf = GridSearchCV(rbf_SVM, parameters)\n",
    "clf.fit(X_train, y_train)\n",
    "\n",
    "print ('\\nRESULTS FOR rbf KERNEL\\n')\n",
    "\n",
    "print(\"Best parameters set found:\")\n",
    "print(clf.best_estimator_)\n",
    "\n",
    "print(\"Score with best parameters:\")\n",
    "print(clf.best_score_)\n",
    "\n",
    "print(\"\\nAll scores on the grid:\")\n",
    "print(pd.DataFrame.from_dict({name_score : score for (name_score, score) in clf.cv_results_.items() if \"score\" in name_score}))"
   ]
  },
  {
   "cell_type": "markdown",
   "metadata": {},
   "source": [
    "## TO DO 2\n",
    "For the \"best\" SVM kernel and choice of parameters from above, train the model on the entire training set and measure the training error. Also make predictions on the test set and measure the test error. Print the training and the test error."
   ]
  },
  {
   "cell_type": "code",
   "execution_count": 9,
   "metadata": {},
   "outputs": [
    {
     "name": "stdout",
     "output_type": "stream",
     "text": [
      "Best SVM training error: 0.000000\n",
      "Best SVM test error: 0.119209\n"
     ]
    }
   ],
   "source": [
    "#get training and test error for the best SVM model from CV\n",
    "best_SVM = SVC(C=10, kernel='rbf', gamma=0.01)\n",
    "\n",
    "# fit the model on the entire training set\n",
    "best_SVM.fit(X_train, y_train)\n",
    "\n",
    "#get the training and test error\n",
    "training_error = 1. - best_SVM.score(X_train,y_train)\n",
    "test_error = 1. - best_SVM.score(X_test,y_test)\n",
    "\n",
    "print (\"Best SVM training error: %f\" % training_error)\n",
    "print (\"Best SVM test error: %f\" % test_error)"
   ]
  },
  {
   "cell_type": "markdown",
   "metadata": {},
   "source": [
    "## Use logistic regression for comparison\n",
    "\n",
    "## TO DO 3\n",
    "\n",
    "Just for comparison let's also use logistic regression, first with the default values of the parameter for regularization and then with cross-validation to fix the value of the parameter. For cross validation, use 5-fold cross validation and the default values of the regularization parameters for the function linear_model.LogisticRegressionCV(...)"
   ]
  },
  {
   "cell_type": "code",
   "execution_count": 10,
   "metadata": {},
   "outputs": [
    {
     "name": "stdout",
     "output_type": "stream",
     "text": [
      "Best logistic regression training error: 0.000000\n",
      "Best logistic regression test error: 0.167453\n",
      "Best logistic regression training error (using 5-fold CV): 0.040000\n",
      "Best logistic regression test error (using 5-fold CV): 0.162892\n"
     ]
    }
   ],
   "source": [
    "from sklearn import linear_model\n",
    "\n",
    "lr = linear_model.LogisticRegression(max_iter = 1000)\n",
    "\n",
    "# fit the model on the training data\n",
    "lr.fit(X_train, y_train)\n",
    "Y_predicted_training = lr.predict(X_train)\n",
    "Y_predicted_test = lr.predict(X_test)\n",
    "\n",
    "#compute training and test error for model above\n",
    "training_error = np.count_nonzero(Y_predicted_training != y_train) / m_training\n",
    "test_error = np.count_nonzero(Y_predicted_test != y_test) / (70000 - m_training)\n",
    "\n",
    "print (\"Best logistic regression training error: %f\" % training_error)\n",
    "print (\"Best logistic regression test error: %f\" % test_error)\n",
    "\n",
    "#logistic regression with 5-fold CV: you can use use linear_model.LogisticRegressionCV\n",
    "# use 5-fold CV to find the best choice of the parameter, than train\n",
    "# the model on the entire training set\n",
    "lr_cv = linear_model.LogisticRegressionCV(cv=5, max_iter = 1000).fit(X_train, y_train)\n",
    "Y_predicted_training_cv = lr_cv.predict(X_train)\n",
    "Y_predicted_test_cv = lr_cv.predict(X_test)\n",
    "\n",
    "training_error_cv = np.count_nonzero(Y_predicted_training_cv != y_train) / m_training\n",
    "test_error_cv = np.count_nonzero(Y_predicted_test_cv != y_test) / (70000 - m_training)\n",
    "\n",
    "print (\"Best logistic regression training error (using 5-fold CV): %f\" % training_error_cv)\n",
    "print (\"Best logistic regression test error (using 5-fold CV): %f\" % test_error_cv)"
   ]
  },
  {
   "cell_type": "markdown",
   "metadata": {},
   "source": [
    "## TO DO 4 \n",
    "Compare and comment the results from SVM and logistic regression."
   ]
  },
  {
   "cell_type": "markdown",
   "metadata": {},
   "source": [
    "The results obtained with this specific permutation of data show that the training error is 0 for both SVM and logistic regression without CV; the 5-fold CV logistic regression instead achieved a 0.040000 error on the training set. In the test set the SVM performed better than both logistic regression algorithms, resulting in a test error of 0.119209, lower than the one obtained by logistic regression without CV (0.167453) and than the test error achieved by logistic regression with 5-fold CV (0.162892)."
   ]
  },
  {
   "cell_type": "markdown",
   "metadata": {},
   "source": [
    "## TO DO 5\n",
    "Write the code that finds and plots a digit that is missclassified by logistic regression (optimized for the regularization parameter) and correctly classified by the \"best\" SVM."
   ]
  },
  {
   "cell_type": "code",
   "execution_count": 11,
   "metadata": {},
   "outputs": [
    {
     "name": "stdout",
     "output_type": "stream",
     "text": [
      "INPUT:\n"
     ]
    },
    {
     "data": {
      "image/png": "[encoded data removed]",
      "text/plain": [
       "<Figure size 432x288 with 1 Axes>"
      ]
     },
     "metadata": {
      "needs_background": "light"
     },
     "output_type": "display_data"
    },
    {
     "name": "stdout",
     "output_type": "stream",
     "text": [
      "LABEL: 5\n"
     ]
    }
   ],
   "source": [
    "y_predicted_svm = best_SVM.predict(X_test)\n",
    "for i in range(0, len(X_test)):\n",
    "    if Y_predicted_test_cv[i] != y_test[i]:\n",
    "        if y_predicted_svm[i] == y_test[i]:\n",
    "            break\n",
    "#print(\"Index ---> \"+ str(i))\n",
    "#print(\"label logistic regression ---> \" + Y_predicted_test[i])\n",
    "#print(\"label svm ---> \" + y_predicted_svm[i])\n",
    "plot_digit(X_test,y_test,i)"
   ]
  },
  {
   "cell_type": "markdown",
   "metadata": {},
   "source": [
    "# More data\n",
    "Now let's do the same but using 1000 data points for training. \n",
    "\n",
    "## TO DO 6\n",
    "Repeat the entire analysis above using 1000 samples. Of course you can copy the code from above."
   ]
  },
  {
   "cell_type": "code",
   "execution_count": 12,
   "metadata": {
    "scrolled": true
   },
   "outputs": [
    {
     "name": "stdout",
     "output_type": "stream",
     "text": [
      "Labels in training dataset:  ['0' '1' '2' '3' '4' '5' '6' '7' '8' '9']\n",
      "Frequencies in training dataset:  [101 108  98 103  95  89 114  89 103 100]\n",
      "RESULTS FOR LINEAR KERNEL\n",
      "\n",
      "Best parameters set found:\n",
      "SVC(C=1, kernel='linear')\n",
      "Score with best parameters:\n",
      "0.882\n",
      "\n",
      "All scores on the grid:\n",
      "   mean_score_time  std_score_time  split0_test_score  split1_test_score  \\\n",
      "0         0.145698        0.000490              0.895              0.875   \n",
      "1         0.145498        0.000800              0.895              0.875   \n",
      "2         0.145496        0.000799              0.895              0.875   \n",
      "\n",
      "   split2_test_score  split3_test_score  split4_test_score  mean_test_score  \\\n",
      "0              0.875               0.88              0.885            0.882   \n",
      "1              0.875               0.88              0.885            0.882   \n",
      "2              0.875               0.88              0.885            0.882   \n",
      "\n",
      "   std_test_score  rank_test_score  \n",
      "0        0.007483                1  \n",
      "1        0.007483                1  \n",
      "2        0.007483                1  \n",
      "\n",
      "RESULTS FOR POLY DEGREE=2 KERNEL\n",
      "\n",
      "Best parameters set found:\n",
      "SVC(C=10, degree=2, gamma=0.01, kernel='poly')\n",
      "Score with best parameters:\n",
      "0.909\n",
      "\n",
      "All scores on the grid:\n",
      "   mean_score_time  std_score_time  split0_test_score  split1_test_score  \\\n",
      "0         0.165110        0.002531              0.895               0.89   \n",
      "1         0.152501        0.004130              0.900               0.91   \n",
      "2         0.151302        0.007417              0.900               0.91   \n",
      "3         0.146499        0.003931              0.905               0.91   \n",
      "4         0.145897        0.001167              0.900               0.91   \n",
      "5         0.145098        0.002098              0.900               0.91   \n",
      "6         0.147899        0.002786              0.900               0.91   \n",
      "7         0.146298        0.002641              0.900               0.91   \n",
      "8         0.146497        0.002247              0.900               0.91   \n",
      "\n",
      "   split2_test_score  split3_test_score  split4_test_score  mean_test_score  \\\n",
      "0              0.885               0.91              0.865            0.889   \n",
      "1              0.895               0.92              0.915            0.908   \n",
      "2              0.895               0.92              0.915            0.908   \n",
      "3              0.895               0.92              0.915            0.909   \n",
      "4              0.895               0.92              0.915            0.908   \n",
      "5              0.895               0.92              0.915            0.908   \n",
      "6              0.895               0.92              0.915            0.908   \n",
      "7              0.895               0.92              0.915            0.908   \n",
      "8              0.895               0.92              0.915            0.908   \n",
      "\n",
      "   std_test_score  rank_test_score  \n",
      "0        0.014629                9  \n",
      "1        0.009274                2  \n",
      "2        0.009274                2  \n",
      "3        0.008602                1  \n",
      "4        0.009274                2  \n",
      "5        0.009274                2  \n",
      "6        0.009274                2  \n",
      "7        0.009274                2  \n",
      "8        0.009274                2  \n",
      "\n",
      "RESULTS FOR rbf KERNEL\n",
      "\n",
      "Best parameters set found:\n",
      "SVC(C=10, gamma=0.01)\n",
      "Score with best parameters:\n",
      "0.9179999999999999\n",
      "\n",
      "All scores on the grid:\n",
      "   mean_score_time  std_score_time  split0_test_score  split1_test_score  \\\n",
      "0         0.183923        0.000747              0.910              0.905   \n",
      "1         0.229552        0.004321              0.810              0.690   \n",
      "2         0.231155        0.000002              0.125              0.110   \n",
      "3         0.183523        0.005244              0.910              0.925   \n",
      "4         0.232955        0.003764              0.830              0.710   \n",
      "5         0.234957        0.006619              0.130              0.115   \n",
      "6         0.177719        0.002060              0.910              0.925   \n",
      "7         0.232155        0.008081              0.830              0.710   \n",
      "8         0.232956        0.002641              0.130              0.115   \n",
      "\n",
      "   split2_test_score  split3_test_score  split4_test_score  mean_test_score  \\\n",
      "0              0.885              0.910              0.905            0.903   \n",
      "1              0.750              0.815              0.785            0.770   \n",
      "2              0.130              0.115              0.115            0.119   \n",
      "3              0.900              0.930              0.925            0.918   \n",
      "4              0.760              0.825              0.795            0.784   \n",
      "5              0.130              0.115              0.125            0.123   \n",
      "6              0.900              0.930              0.925            0.918   \n",
      "7              0.760              0.825              0.795            0.784   \n",
      "8              0.130              0.115              0.125            0.123   \n",
      "\n",
      "   std_test_score  rank_test_score  \n",
      "0        0.009274                3  \n",
      "1        0.046152                6  \n",
      "2        0.007348                9  \n",
      "3        0.011225                1  \n",
      "4        0.044654                4  \n",
      "5        0.006782                7  \n",
      "6        0.011225                1  \n",
      "7        0.044654                4  \n",
      "8        0.006782                7  \n",
      "Best SVM training error: 0.000000\n",
      "Best SVM test error: 0.081043\n",
      "Best logistic regression training error: 0.001000\n",
      "Best logistic regression test error: 0.141536\n",
      "Best logistic regression training error (using 5-fold CV): 0.064000\n",
      "Best logistic regression test error (using 5-fold CV): 0.136420\n",
      "Index ---> 20\n",
      "label logistic regression ---> 3\n",
      "label svm ---> 8\n",
      "INPUT:\n"
     ]
    },
    {
     "data": {
      "image/png": "[encoded data removed]",
      "text/plain": [
       "<Figure size 432x288 with 1 Axes>"
      ]
     },
     "metadata": {
      "needs_background": "light"
     },
     "output_type": "display_data"
    },
    {
     "name": "stdout",
     "output_type": "stream",
     "text": [
      "LABEL: 8\n"
     ]
    }
   ],
   "source": [
    "m_training = 1000\n",
    "\n",
    "X_train, X_test = X[:m_training], X[m_training:]\n",
    "y_train, y_test = y[:m_training], y[m_training:]\n",
    "\n",
    "labels, freqs = np.unique(y_train, return_counts = True)\n",
    "print(\"Labels in training dataset: \", labels)\n",
    "print(\"Frequencies in training dataset: \", freqs)\n",
    "\n",
    "########################################\n",
    "\n",
    "# parameters for linear SVM\n",
    "parameters = {'C': [1, 10, 100]}\n",
    "\n",
    "#run linear SVM\n",
    "linear_SVM = SVC(kernel='linear')\n",
    "\n",
    "#find best model using 5-fold CV \n",
    "#and train it using all the training data\n",
    "clf = GridSearchCV(linear_SVM, parameters)\n",
    "clf.fit(X_train, y_train)\n",
    "\n",
    "print ('RESULTS FOR LINEAR KERNEL\\n')\n",
    "\n",
    "print(\"Best parameters set found:\")\n",
    "print(clf.best_estimator_)\n",
    "\n",
    "print(\"Score with best parameters:\")\n",
    "print(clf.best_score_)\n",
    "\n",
    "print(\"\\nAll scores on the grid:\")\n",
    "print(pd.DataFrame.from_dict({name_score : score for (name_score, score) in clf.cv_results_.items() if \"score\" in name_score}))\n",
    "\n",
    "# parameters for poly with degree 2 kernel\n",
    "parameters = {'C': [1, 10, 100],'gamma':[0.01,0.1,1.]}\n",
    "\n",
    "#run SVM with poly of degree 2 kernel\n",
    "poly2_SVM = SVC(kernel='poly',degree=2)\n",
    "\n",
    "# ADD CODE: DO THE SAME AS ABOVE FOR POLYNOMIAL KERNEL WITH DEGREE=2\n",
    "clf = GridSearchCV(poly2_SVM, parameters)\n",
    "clf.fit(X_train, y_train)\n",
    "\n",
    "print ('\\nRESULTS FOR POLY DEGREE=2 KERNEL\\n')\n",
    "\n",
    "print(\"Best parameters set found:\")\n",
    "print(clf.best_estimator_)\n",
    "\n",
    "print(\"Score with best parameters:\")\n",
    "print(clf.best_score_)\n",
    "\n",
    "print(\"\\nAll scores on the grid:\")\n",
    "print(pd.DataFrame.from_dict({name_score : score for (name_score, score) in clf.cv_results_.items() if \"score\" in name_score}))\n",
    "\n",
    "# parameters for rbf SVM\n",
    "parameters = {'C': [1, 10, 100],'gamma':[0.01,0.1,1.]}\n",
    "\n",
    "#run SVM with rbf kernel\n",
    "rbf_SVM = SVC(kernel='rbf')\n",
    "\n",
    "# ADD CODE: DO THE SAME AS ABOVE FOR RBF KERNEL\n",
    "clf = GridSearchCV(rbf_SVM, parameters)\n",
    "clf.fit(X_train, y_train)\n",
    "\n",
    "print ('\\nRESULTS FOR rbf KERNEL\\n')\n",
    "\n",
    "print(\"Best parameters set found:\")\n",
    "print(clf.best_estimator_)\n",
    "\n",
    "print(\"Score with best parameters:\")\n",
    "print(clf.best_score_)\n",
    "\n",
    "print(\"\\nAll scores on the grid:\")\n",
    "print(pd.DataFrame.from_dict({name_score : score for (name_score, score) in clf.cv_results_.items() if \"score\" in name_score}))\n",
    "\n",
    "###########################################\n",
    "\n",
    "#get training and test error for the best SVM model from CV\n",
    "best_SVM = SVC(C=10, kernel='rbf', gamma=0.01)\n",
    "\n",
    "# fit the model on the entire training set\n",
    "best_SVM.fit(X_train, y_train)\n",
    "\n",
    "#get the training and test error\n",
    "training_error = 1. - best_SVM.score(X_train,y_train)\n",
    "test_error = 1. - best_SVM.score(X_test,y_test)\n",
    "\n",
    "print (\"Best SVM training error: %f\" % training_error)\n",
    "print (\"Best SVM test error: %f\" % test_error)\n",
    "\n",
    "##########################################\n",
    "\n",
    "lr = linear_model.LogisticRegression(max_iter = 1000)\n",
    "\n",
    "# fit the model on the training data\n",
    "lr.fit(X_train, y_train)\n",
    "Y_predicted_training = lr.predict(X_train)\n",
    "Y_predicted_test = lr.predict(X_test)\n",
    "\n",
    "#compute training and test error for model above\n",
    "training_error = np.count_nonzero(Y_predicted_training != y_train) / m_training\n",
    "test_error = np.count_nonzero(Y_predicted_test != y_test) / (70000 - m_training)\n",
    "\n",
    "print (\"Best logistic regression training error: %f\" % training_error)\n",
    "print (\"Best logistic regression test error: %f\" % test_error)\n",
    "\n",
    "#logistic regression with 5-fold CV: you can use use linear_model.LogisticRegressionCV\n",
    "# use 5-fold CV to find the best choice of the parameter, than train\n",
    "# the model on the entire training set\n",
    "lr_cv = linear_model.LogisticRegressionCV(cv=5, max_iter = 1000).fit(X_train, y_train)\n",
    "Y_predicted_training_cv = lr_cv.predict(X_train)\n",
    "Y_predicted_test_cv = lr_cv.predict(X_test)\n",
    "\n",
    "training_error_cv = np.count_nonzero(Y_predicted_training_cv != y_train) / m_training\n",
    "test_error_cv = np.count_nonzero(Y_predicted_test_cv != y_test) / (70000 - m_training)\n",
    "\n",
    "print (\"Best logistic regression training error (using 5-fold CV): %f\" % training_error_cv)\n",
    "print (\"Best logistic regression test error (using 5-fold CV): %f\" % test_error_cv)\n",
    "\n",
    "############################################\n",
    "\n",
    "y_predicted_svm = best_SVM.predict(X_test)\n",
    "for i in range(0, len(X_test)):\n",
    "    if Y_predicted_test_cv[i] != y_test[i]:\n",
    "        if y_predicted_svm[i] == y_test[i]:\n",
    "            break\n",
    "print(\"Index ---> \"+ str(i))\n",
    "print(\"label logistic regression ---> \" + Y_predicted_test[i])\n",
    "print(\"label svm ---> \" + y_predicted_svm[i])\n",
    "plot_digit(X_test,y_test,i)"
   ]
  },
  {
   "cell_type": "markdown",
   "metadata": {},
   "source": [
    "## TO DO 7\n",
    "Compare and comment on the differences with the results above."
   ]
  },
  {
   "cell_type": "markdown",
   "metadata": {},
   "source": [
    "By using 1000 samples for the training set we notice a general improvement of perfomance for all the tested models. In particular, it turns out that the best SVM model is still the one with rbf kernel, which on the tested permutation of data obtained an accuracy of 0.918. Furthermore, a comparison between SVM and logistic regression results shows that rbf SVM is still the best with 0.081043 test error and 0 training error."
   ]
  }
 ],
 "metadata": {
  "kernelspec": {
   "display_name": "Python 3",
   "language": "python",
   "name": "python3"
  },
  "language_info": {
   "codemirror_mode": {
    "name": "ipython",
    "version": 3
   },
   "file_extension": ".py",
   "mimetype": "text/x-python",
   "name": "python",
   "nbconvert_exporter": "python",
   "pygments_lexer": "ipython3",
   "version": "3.8.3"
  }
 },
 "nbformat": 4,
 "nbformat_minor": 4
}
